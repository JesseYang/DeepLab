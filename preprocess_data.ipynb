{
 "cells": [
  {
   "cell_type": "code",
   "execution_count": 1,
   "metadata": {
    "collapsed": true
   },
   "outputs": [],
   "source": [
    "import os\n",
    "import numpy as np"
   ]
  },
  {
   "cell_type": "code",
   "execution_count": 2,
   "metadata": {
    "collapsed": false
   },
   "outputs": [],
   "source": [
    "voc_train_fn = \"VOC2012/ImageSets/Segmentation/train.txt\"\n",
    "voc_val_fn = \"VOC2012/ImageSets/Segmentation/val.txt\"\n",
    "\n",
    "sbd_train_fn = \"SBD/benchmark_RELEASE/dataset/train.txt\"\n",
    "sbd_val_fn = \"SBD/benchmark_RELEASE/dataset/val.txt\"\n",
    "\n",
    "voc_img_dir = \"VOC2012/JPEGImages\"\n",
    "voc_label_dir = \"VOC2012/SegmentationClassRaw\"\n",
    "sbd_img_dir = \"SBD/benchmark_RELEASE/dataset/img\"\n",
    "sbd_label_dir = \"SBD/benchmark_RELEASE/dataset/cls_raw\"\n",
    "\n",
    "img_fmt = \"jpg\"\n",
    "label_fmt = \"png\""
   ]
  },
  {
   "cell_type": "code",
   "execution_count": 3,
   "metadata": {
    "collapsed": true
   },
   "outputs": [],
   "source": [
    "target_train_file = \"voc_train_sbd_aug.txt\"\n",
    "target_val_file = \"voc_val.txt\""
   ]
  },
  {
   "cell_type": "code",
   "execution_count": null,
   "metadata": {
    "collapsed": true
   },
   "outputs": [],
   "source": []
  },
  {
   "cell_type": "code",
   "execution_count": 4,
   "metadata": {
    "collapsed": false
   },
   "outputs": [],
   "source": [
    "voc_train_f = open(voc_train_fn, 'r')\n",
    "voc_train_content = [e.strip() for e in voc_train_f.readlines()]\n",
    "\n",
    "voc_val_f = open(voc_val_fn, 'r')\n",
    "voc_val_content = [e.strip() for e in voc_val_f.readlines()]\n",
    "\n",
    "sbd_train_f = open(sbd_train_fn, 'r')\n",
    "sbd_train_content = [e.strip() for e in sbd_train_f.readlines()]\n",
    "\n",
    "sbd_val_f = open(sbd_val_fn, 'r')\n",
    "sbd_val_content = [e.strip() for e in sbd_val_f.readlines()]\n",
    "\n",
    "sbd_content = sbd_train_content + sbd_val_content"
   ]
  },
  {
   "cell_type": "code",
   "execution_count": null,
   "metadata": {
    "collapsed": true
   },
   "outputs": [],
   "source": []
  },
  {
   "cell_type": "code",
   "execution_count": 5,
   "metadata": {
    "collapsed": true
   },
   "outputs": [],
   "source": [
    "train_img_list = []\n",
    "train_label_list = []\n",
    "val_img_list = []\n",
    "val_label_list = []"
   ]
  },
  {
   "cell_type": "code",
   "execution_count": 6,
   "metadata": {
    "collapsed": false
   },
   "outputs": [],
   "source": [
    "# VOC train\n",
    "for c in voc_train_content:\n",
    "    train_img_list.append(os.path.join(voc_img_dir, \"%s.%s\" % (c, img_fmt)))\n",
    "    train_label_list.append(os.path.join(voc_label_dir, \"%s.%s\" % (c, label_fmt)))"
   ]
  },
  {
   "cell_type": "code",
   "execution_count": 7,
   "metadata": {
    "collapsed": false
   },
   "outputs": [],
   "source": [
    "# SBD\n",
    "for c in sbd_content:\n",
    "    if c in voc_val_content or c in voc_train_content:\n",
    "        continue\n",
    "    train_img_list.append(os.path.join(sbd_img_dir, \"%s.%s\" % (c, img_fmt)))\n",
    "    train_label_list.append(os.path.join(sbd_label_dir, \"%s.%s\" % (c, label_fmt)))"
   ]
  },
  {
   "cell_type": "code",
   "execution_count": 8,
   "metadata": {
    "collapsed": false
   },
   "outputs": [],
   "source": [
    "# VOC val\n",
    "for c in voc_val_content:\n",
    "    val_img_list.append(os.path.join(voc_img_dir, \"%s.%s\" % (c, img_fmt)))\n",
    "    val_label_list.append(os.path.join(voc_label_dir, \"%s.%s\" % (c, label_fmt)))"
   ]
  },
  {
   "cell_type": "code",
   "execution_count": null,
   "metadata": {
    "collapsed": true
   },
   "outputs": [],
   "source": []
  },
  {
   "cell_type": "code",
   "execution_count": 14,
   "metadata": {
    "collapsed": true
   },
   "outputs": [],
   "source": [
    "train_f = open(target_train_file, 'w')\n",
    "lines = []\n",
    "for idx, img_path in enumerate(train_img_list):\n",
    "    label_path = train_label_list[idx]\n",
    "    lines.append(\"%s %s\\n\" % (img_path, label_path))\n",
    "np.random.shuffle(lines)\n",
    "train_f.writelines(lines)\n",
    "train_f.close()"
   ]
  },
  {
   "cell_type": "code",
   "execution_count": null,
   "metadata": {
    "collapsed": true
   },
   "outputs": [],
   "source": []
  },
  {
   "cell_type": "code",
   "execution_count": 15,
   "metadata": {
    "collapsed": true
   },
   "outputs": [],
   "source": [
    "val_f = open(target_val_file, 'w')\n",
    "lines = []\n",
    "for idx, img_path in enumerate(val_img_list):\n",
    "    label_path = val_label_list[idx]\n",
    "    lines.append(\"%s %s\\n\" % (img_path, label_path))\n",
    "np.random.shuffle(lines)\n",
    "val_f.writelines(lines)\n",
    "val_f.close()"
   ]
  },
  {
   "cell_type": "code",
   "execution_count": null,
   "metadata": {
    "collapsed": true
   },
   "outputs": [],
   "source": []
  }
 ],
 "metadata": {
  "kernelspec": {
   "display_name": "Python 3",
   "language": "python",
   "name": "python3"
  },
  "language_info": {
   "codemirror_mode": {
    "name": "ipython",
    "version": 3
   },
   "file_extension": ".py",
   "mimetype": "text/x-python",
   "name": "python",
   "nbconvert_exporter": "python",
   "pygments_lexer": "ipython3",
   "version": "3.6.0"
  }
 },
 "nbformat": 4,
 "nbformat_minor": 2
}
